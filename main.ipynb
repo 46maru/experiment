{
 "cells": [
  {
   "cell_type": "code",
   "execution_count": 35,
   "metadata": {},
   "outputs": [
    {
     "name": "stdout",
     "output_type": "stream",
     "text": [
      "PyTorch version: 2.0.1+cu117\n",
      "CUDA version: 11.7\n"
     ]
    }
   ],
   "source": [
    "import torch\n",
    "print(f\"PyTorch version: {torch.__version__}\")\n",
    "print(f\"CUDA version: {torch.version.cuda}\")"
   ]
  },
  {
   "cell_type": "code",
   "execution_count": 36,
   "metadata": {},
   "outputs": [
    {
     "name": "stdout",
     "output_type": "stream",
     "text": [
      "Requirement already satisfied: japanize-matplotlib in /usr/local/lib/python3.8/dist-packages (1.1.3)\n",
      "Requirement already satisfied: matplotlib in /usr/local/lib/python3.8/dist-packages (from japanize-matplotlib) (3.7.1)\n",
      "Requirement already satisfied: contourpy>=1.0.1 in /usr/local/lib/python3.8/dist-packages (from matplotlib->japanize-matplotlib) (1.1.1)\n",
      "Requirement already satisfied: cycler>=0.10 in /usr/local/lib/python3.8/dist-packages (from matplotlib->japanize-matplotlib) (0.12.1)\n",
      "Requirement already satisfied: fonttools>=4.22.0 in /usr/local/lib/python3.8/dist-packages (from matplotlib->japanize-matplotlib) (4.54.1)\n",
      "Requirement already satisfied: kiwisolver>=1.0.1 in /usr/local/lib/python3.8/dist-packages (from matplotlib->japanize-matplotlib) (1.4.4)\n",
      "Requirement already satisfied: numpy>=1.20 in /usr/local/lib/python3.8/dist-packages (from matplotlib->japanize-matplotlib) (1.22.4)\n",
      "Requirement already satisfied: packaging>=20.0 in /usr/local/lib/python3.8/dist-packages (from matplotlib->japanize-matplotlib) (23.1)\n",
      "Requirement already satisfied: pillow>=6.2.0 in /usr/local/lib/python3.8/dist-packages (from matplotlib->japanize-matplotlib) (8.4.0)\n",
      "Requirement already satisfied: pyparsing>=2.3.1 in /usr/local/lib/python3.8/dist-packages (from matplotlib->japanize-matplotlib) (3.1.4)\n",
      "Requirement already satisfied: python-dateutil>=2.7 in /usr/local/lib/python3.8/dist-packages (from matplotlib->japanize-matplotlib) (2.8.2)\n",
      "Requirement already satisfied: importlib-resources>=3.2.0 in /usr/local/lib/python3.8/dist-packages (from matplotlib->japanize-matplotlib) (5.12.0)\n",
      "Requirement already satisfied: zipp>=3.1.0 in /usr/local/lib/python3.8/dist-packages (from importlib-resources>=3.2.0->matplotlib->japanize-matplotlib) (3.15.0)\n",
      "Requirement already satisfied: six>=1.5 in /usr/local/lib/python3.8/dist-packages (from python-dateutil>=2.7->matplotlib->japanize-matplotlib) (1.16.0)\n",
      "\u001b[33mWARNING: Running pip as the 'root' user can result in broken permissions and conflicting behaviour with the system package manager, possibly rendering your system unusable.It is recommended to use a virtual environment instead: https://pip.pypa.io/warnings/venv. Use the --root-user-action option if you know what you are doing and want to suppress this warning.\u001b[0m\u001b[33m\n",
      "\u001b[0mRequirement already satisfied: torch-geometric in /usr/local/lib/python3.8/dist-packages (2.6.1)\n",
      "Requirement already satisfied: aiohttp in /usr/local/lib/python3.8/dist-packages (from torch-geometric) (3.10.9)\n",
      "Requirement already satisfied: fsspec in /usr/local/lib/python3.8/dist-packages (from torch-geometric) (2024.2.0)\n",
      "Requirement already satisfied: jinja2 in /usr/local/lib/python3.8/dist-packages (from torch-geometric) (3.1.2)\n",
      "Requirement already satisfied: numpy in /usr/local/lib/python3.8/dist-packages (from torch-geometric) (1.22.4)\n",
      "Requirement already satisfied: psutil>=5.8.0 in /usr/local/lib/python3.8/dist-packages (from torch-geometric) (5.9.5)\n",
      "Requirement already satisfied: pyparsing in /usr/local/lib/python3.8/dist-packages (from torch-geometric) (3.1.4)\n",
      "Requirement already satisfied: requests in /usr/local/lib/python3.8/dist-packages (from torch-geometric) (2.27.1)\n",
      "Requirement already satisfied: tqdm in /usr/local/lib/python3.8/dist-packages (from torch-geometric) (4.65.0)\n",
      "Requirement already satisfied: aiohappyeyeballs>=2.3.0 in /usr/local/lib/python3.8/dist-packages (from aiohttp->torch-geometric) (2.4.3)\n",
      "Requirement already satisfied: aiosignal>=1.1.2 in /usr/local/lib/python3.8/dist-packages (from aiohttp->torch-geometric) (1.3.1)\n",
      "Requirement already satisfied: attrs>=17.3.0 in /usr/local/lib/python3.8/dist-packages (from aiohttp->torch-geometric) (24.2.0)\n",
      "Requirement already satisfied: frozenlist>=1.1.1 in /usr/local/lib/python3.8/dist-packages (from aiohttp->torch-geometric) (1.4.1)\n",
      "Requirement already satisfied: multidict<7.0,>=4.5 in /usr/local/lib/python3.8/dist-packages (from aiohttp->torch-geometric) (6.1.0)\n",
      "Requirement already satisfied: yarl<2.0,>=1.12.0 in /usr/local/lib/python3.8/dist-packages (from aiohttp->torch-geometric) (1.13.1)\n",
      "Requirement already satisfied: async-timeout<5.0,>=4.0 in /usr/local/lib/python3.8/dist-packages (from aiohttp->torch-geometric) (4.0.3)\n",
      "Requirement already satisfied: MarkupSafe>=2.0 in /usr/local/lib/python3.8/dist-packages (from jinja2->torch-geometric) (2.1.2)\n",
      "Requirement already satisfied: urllib3<1.27,>=1.21.1 in /usr/local/lib/python3.8/dist-packages (from requests->torch-geometric) (1.26.15)\n",
      "Requirement already satisfied: certifi>=2017.4.17 in /usr/lib/python3/dist-packages (from requests->torch-geometric) (2019.11.28)\n",
      "Requirement already satisfied: charset-normalizer~=2.0.0 in /usr/local/lib/python3.8/dist-packages (from requests->torch-geometric) (2.0.12)\n",
      "Requirement already satisfied: idna<4,>=2.5 in /usr/local/lib/python3.8/dist-packages (from requests->torch-geometric) (3.4)\n",
      "Requirement already satisfied: typing-extensions>=4.1.0 in /usr/local/lib/python3.8/dist-packages (from multidict<7.0,>=4.5->aiohttp->torch-geometric) (4.5.0)\n",
      "\u001b[33mWARNING: Running pip as the 'root' user can result in broken permissions and conflicting behaviour with the system package manager, possibly rendering your system unusable.It is recommended to use a virtual environment instead: https://pip.pypa.io/warnings/venv. Use the --root-user-action option if you know what you are doing and want to suppress this warning.\u001b[0m\u001b[33m\n",
      "\u001b[0m"
     ]
    }
   ],
   "source": [
    "!pip install japanize-matplotlib\n",
    "!pip install torch-geometric"
   ]
  },
  {
   "cell_type": "code",
   "execution_count": 37,
   "metadata": {},
   "outputs": [],
   "source": [
    "import networkx as nx\n",
    "import matplotlib.pyplot as plt\n",
    "import japanize_matplotlib\n",
    "import numpy as np\n",
    "import pandas as pd\n",
    "import torch\n",
    "from random import random\n",
    "import torch.nn as nn\n",
    "import torch\n",
    "import torch.nn.functional as F\n",
    "from torch_geometric.nn import GCNConv\n",
    "from torch_geometric.data import Data"
   ]
  },
  {
   "cell_type": "markdown",
   "metadata": {},
   "source": [
    "## 元のデータの読み込み"
   ]
  },
  {
   "cell_type": "code",
   "execution_count": 38,
   "metadata": {},
   "outputs": [
    {
     "name": "stdout",
     "output_type": "stream",
     "text": [
      "Number of nodes: 312920\n",
      "Number of edges: 464405\n"
     ]
    }
   ],
   "source": [
    "import networkx as nx\n",
    "import pandas as pd\n",
    "import matplotlib.pyplot as plt\n",
    "\n",
    "# CSVファイルの読み込み\n",
    "df = pd.read_csv('./experiment/dataset/contracts.csv')\n",
    "\n",
    "# MultiGraphの作成\n",
    "G = nx.MultiGraph()\n",
    "\n",
    "# エッジの追加（重複を許可）\n",
    "for _, row in df.iterrows():\n",
    "    G.add_edge(row['from_address'], row['to_address'])\n",
    "\n",
    "# グラフの基本情報を表示\n",
    "print(f\"Number of nodes: {G.number_of_nodes()}\")\n",
    "print(f\"Number of edges: {G.number_of_edges()}\")"
   ]
  },
  {
   "cell_type": "markdown",
   "metadata": {},
   "source": [
    "#### グラフの可視化(時間かかる)"
   ]
  },
  {
   "cell_type": "code",
   "execution_count": 39,
   "metadata": {},
   "outputs": [],
   "source": [
    "# pos = nx.spring_layout(G, iterations=20, pos = nx.spring_layout(G, iterations=10, threshold=0.01))\n",
    "# nx.draw(G, pos, with_labels=False, node_color='lightblue', node_size=5, arrowsize=1)\n",
    "# plt.title(\"Generated Graph from CSV\")\n",
    "\n",
    "# plt.savefig(\"generated_graph.png\", dpi=300, bbox_inches='tight')"
   ]
  },
  {
   "cell_type": "code",
   "execution_count": 40,
   "metadata": {},
   "outputs": [
    {
     "name": "stdout",
     "output_type": "stream",
     "text": [
      "252851\n",
      "1\n",
      "            頻度\n",
      "1       229339\n",
      "2        59705\n",
      "3        12416\n",
      "4         3901\n",
      "5         1695\n",
      "...        ...\n",
      "11000        1\n",
      "12000        1\n",
      "13411        1\n",
      "36851        1\n",
      "252851       1\n",
      "\n",
      "[272 rows x 1 columns]\n"
     ]
    }
   ],
   "source": [
    "from collections import Counter\n",
    "\n",
    "degree = list(dict(nx.degree(G)).values())\n",
    "\n",
    "print(max(degree))\n",
    "print(min(degree))\n",
    "\n",
    "# 次数の出現回数をカウント\n",
    "degree_counts = Counter(degree)\n",
    "\n",
    "# データフレームを作成\n",
    "df = pd.DataFrame.from_dict(degree_counts, orient='index', columns=['頻度'])\n",
    "df = df.sort_index()\n",
    "\n",
    "print(df)"
   ]
  },
  {
   "cell_type": "markdown",
   "metadata": {},
   "source": [
    "### 元データの次数散布図"
   ]
  },
  {
   "cell_type": "code",
   "execution_count": 41,
   "metadata": {},
   "outputs": [
    {
     "data": {
      "image/png": "[encoded data removed]",
      "text/plain": [
       "<Figure size 864x576 with 1 Axes>"
      ]
     },
     "metadata": {
      "needs_background": "light"
     },
     "output_type": "display_data"
    }
   ],
   "source": [
    "plt.figure(figsize=(12, 8))\n",
    "plt.scatter(list(df.index), df['頻度'], alpha=0.6, edgecolors='g')\n",
    "plt.xscale('log')\n",
    "plt.yscale('log')\n",
    "\n",
    "# 軸ラベルとタイトル\n",
    "plt.xlabel('次数（対数スケール）', fontsize=14)\n",
    "plt.ylabel('頻度（対数スケール）', fontsize=14)\n",
    "plt.title('次数分布のログ-ログプロット', fontsize=16)\n",
    "\n",
    "# グリッドの追加\n",
    "plt.grid(True, which=\"both\", ls=\"-\", alpha=0.2)\n",
    "\n",
    "# プロットの表示\n",
    "plt.tight_layout()\n",
    "plt.show()"
   ]
  },
  {
   "cell_type": "markdown",
   "metadata": {},
   "source": [
    "## データセットの分割"
   ]
  },
  {
   "cell_type": "code",
   "execution_count": 42,
   "metadata": {},
   "outputs": [
    {
     "name": "stdout",
     "output_type": "stream",
     "text": [
      "Number of nodes: 24284\n",
      "Number of edges: 46441\n",
      "Number of train_nodes: 295219\n",
      "Number of test_edges: 417966\n"
     ]
    }
   ],
   "source": [
    "\"\"\" テストデータのinput(トレインデータ作成用) \"\"\"\n",
    "df = pd.read_csv('./experiment/dataset/test_data.csv')\n",
    "\n",
    "# MultiGraphの作成\n",
    "G_test = nx.MultiGraph()\n",
    "\n",
    "# エッジの追加（重複を許可）\n",
    "for _, row in df.iterrows():\n",
    "    G_test.add_edge(row['from_address'], row['to_address'])\n",
    "\n",
    "# グラフの基本情報を表示\n",
    "print(f\"Number of nodes: {G_test.number_of_nodes()}\")\n",
    "print(f\"Number of edges: {G_test.number_of_edges()}\")\n",
    "\n",
    "\"\"\" トレインデータのinput(テストデータ作成用) \"\"\"\n",
    "\n",
    "df = pd.read_csv('./experiment/dataset/train_data.csv')\n",
    "\n",
    "G_train = nx.MultiGraph()\n",
    "\n",
    "#エッジの追加\n",
    "for _, row in df.iterrows():\n",
    "    G_train.add_edge(row['from_address'], row['to_address'])\n",
    "\n",
    "print(f\"Number of train_nodes: {G_train.number_of_nodes()}\")\n",
    "print(f\"Number of test_edges: {G_train.number_of_edges()}\")"
   ]
  },
  {
   "cell_type": "markdown",
   "metadata": {},
   "source": [
    "### データセット分割"
   ]
  },
  {
   "cell_type": "code",
   "execution_count": 43,
   "metadata": {},
   "outputs": [],
   "source": [
    "#テストグラフの作成(ノードの数は一緒)\n",
    "def remove_edges(G, edges_to_remove):\n",
    "    G.remove_edges_from(edges_to_remove)\n",
    "    G.remove_edges_from([(v, u) for (u, v) in edges_to_remove])"
   ]
  },
  {
   "cell_type": "markdown",
   "metadata": {},
   "source": [
    "### 訓練データ"
   ]
  },
  {
   "cell_type": "code",
   "execution_count": 44,
   "metadata": {},
   "outputs": [
    {
     "name": "stdout",
     "output_type": "stream",
     "text": [
      "Number of nodes: 312920\n",
      "Number of edges: 412930\n"
     ]
    }
   ],
   "source": [
    "G_train = G.copy()\n",
    "remove_edges(G_train, list(G_test.edges()))\n",
    "print(f\"Number of nodes: {G_train.number_of_nodes()}\")\n",
    "print(f\"Number of edges: {G_train.number_of_edges()}\")"
   ]
  },
  {
   "cell_type": "markdown",
   "metadata": {},
   "source": [
    "### テストデータ"
   ]
  },
  {
   "cell_type": "code",
   "execution_count": 45,
   "metadata": {},
   "outputs": [
    {
     "name": "stdout",
     "output_type": "stream",
     "text": [
      "Number of test_nodes: 312920\n",
      "Number of test_edges: 48344\n"
     ]
    }
   ],
   "source": [
    "G_test = G.copy()\n",
    "remove_edges(G_test, list(G_train.edges()))\n",
    "print(f\"Number of test_nodes: {G_test.number_of_nodes()}\")\n",
    "print(f\"Number of test_edges: {G_test.number_of_edges()}\")"
   ]
  },
  {
   "cell_type": "markdown",
   "metadata": {},
   "source": [
    "## 実装"
   ]
  },
  {
   "cell_type": "markdown",
   "metadata": {},
   "source": [
    "### GCN"
   ]
  },
  {
   "cell_type": "markdown",
   "metadata": {},
   "source": [
    "#### 訓練データのedge_index化"
   ]
  },
  {
   "cell_type": "code",
   "execution_count": 46,
   "metadata": {},
   "outputs": [
    {
     "name": "stdout",
     "output_type": "stream",
     "text": [
      "エッジ数：412930\n",
      "ノード数312920\n",
      "tensor([[     0,      0,      0,  ..., 295168, 295180, 295205],\n",
      "        [     1,    554,    554,  ..., 295169, 295181, 295206]])\n"
     ]
    }
   ],
   "source": [
    "import networkx as nx\n",
    "import torch\n",
    "from torch_geometric.data import Data\n",
    "import torch_geometric.transforms as T\n",
    "import torch_geometric.utils as utils\n",
    "\n",
    "# ノードに整数インデックスを割り当てる\n",
    "node_to_index = {node: i for i, node in enumerate(G_train.nodes())}\n",
    "\n",
    "# エッジリストを整数インデックスに変換\n",
    "edge_list_int = [(node_to_index[u], node_to_index[v]) for u, v in G_train.edges()]\n",
    "\n",
    "print(f\"エッジ数：{len(edge_list_int)}\")\n",
    "\n",
    "num_nodes = len(G_train.nodes)\n",
    "\n",
    "print(f\"ノード数{num_nodes}\")\n",
    "\n",
    "embedding_dim = 128  # 埋め込み次元\n",
    "\n",
    "# 整数インデックスのエッジリストをテンソルに変換\n",
    "edge_index = torch.tensor(edge_list_int, dtype=torch.long).t().contiguous()\n",
    "\n",
    "train_edge_index =  edge_index\n",
    "\n",
    "print(edge_index)\n",
    "# ノードの初期特徴量をランダムに設定\n",
    "X = torch.randn((num_nodes, embedding_dim))\n",
    "\n",
    "# PyTorch Geometric の Data オブジェクトを作成\n",
    "data = Data(x=X, edge_index=edge_index)"
   ]
  },
  {
   "cell_type": "code",
   "execution_count": 47,
   "metadata": {},
   "outputs": [
    {
     "name": "stdout",
     "output_type": "stream",
     "text": [
      "Number of nodes: 312920\n",
      "Number of edges: 412930\n"
     ]
    }
   ],
   "source": [
    "print(f\"Number of nodes: {data.num_nodes}\")\n",
    "print(f\"Number of edges: {data.num_edges}\")"
   ]
  },
  {
   "cell_type": "code",
   "execution_count": 58,
   "metadata": {},
   "outputs": [],
   "source": [
    "class GCN(torch.nn.Module):\n",
    "    def __init__(self, in_channels, hidden_channels, out_channels, dropout=0.5):\n",
    "        super(GCN, self).__init__()\n",
    "        self.conv1 = GCNConv(in_channels, hidden_channels)\n",
    "        self.conv2 = GCNConv(hidden_channels, out_channels)\n",
    "        self.dropout = dropout\n",
    "\n",
    "\n",
    "    def forward(self, x, edge_index):\n",
    "        x = self.conv1(x, edge_index)\n",
    "        x = F.relu(x)\n",
    "        x = F.dropout(x, p=self.dropout, training=self.training)\n",
    "        x = self.conv2(x, edge_index)\n",
    "        return x\n",
    "\n",
    "# モデルの初期化\n",
    "model = GCN(embedding_dim, 64, embedding_dim)\n",
    "optimizer = torch.optim.Adam(model.parameters(), lr=0.01)"
   ]
  },
  {
   "cell_type": "code",
   "execution_count": 49,
   "metadata": {},
   "outputs": [],
   "source": [
    "def predict_edge_prob(edge_index, z):\n",
    "    edge_emb = z[edge_index[0]] * z[edge_index[1]]\n",
    "    edge_prob = torch.sigmoid(edge_emb.sum(dim=1))\n",
    "    return edge_prob\n",
    "\n",
    "def binary_cross_entropy_loss(pos_edge_prob, neg_edge_prob):\n",
    "    pos_loss = -torch.log(pos_edge_prob + 1e-15).mean()\n",
    "    neg_loss = -torch.log(1 - neg_edge_prob + 1e-15).mean()\n",
    "    return pos_loss + neg_loss"
   ]
  },
  {
   "cell_type": "markdown",
   "metadata": {},
   "source": [
    "### 訓練用のエッジリストの作成"
   ]
  },
  {
   "cell_type": "code",
   "execution_count": 50,
   "metadata": {},
   "outputs": [],
   "source": [
    "# CSVファイルを読み込む\n",
    "df_negative_edges = pd.read_csv('./experiment/dataset/GCN_negative_edge.csv')\n",
    "\n",
    "# リストに変換\n",
    "negative_edges = df_negative_edges.values.tolist()"
   ]
  },
  {
   "cell_type": "code",
   "execution_count": 51,
   "metadata": {},
   "outputs": [],
   "source": [
    "pos_edge_index = train_edge_index\n",
    "neg_edge_index = torch.tensor(negative_edges, dtype=torch.long).t().contiguous()"
   ]
  },
  {
   "cell_type": "markdown",
   "metadata": {},
   "source": [
    "### 学習"
   ]
  },
  {
   "cell_type": "code",
   "execution_count": 59,
   "metadata": {},
   "outputs": [
    {
     "name": "stdout",
     "output_type": "stream",
     "text": [
      "Epoch 0, Loss: 2.5906918048858643\n",
      "Epoch 1, Loss: 1.3859179019927979\n",
      "Epoch 2, Loss: 1.1592854261398315\n",
      "Epoch 3, Loss: 1.236433506011963\n",
      "Epoch 4, Loss: 1.2273415327072144\n",
      "Epoch 5, Loss: 1.1365470886230469\n",
      "Epoch 6, Loss: 1.0236034393310547\n",
      "Epoch 7, Loss: 0.9620023965835571\n",
      "Epoch 8, Loss: 0.9150417447090149\n",
      "Epoch 9, Loss: 0.9072891473770142\n",
      "Epoch 10, Loss: 0.9003813862800598\n",
      "Epoch 11, Loss: 0.8861444592475891\n",
      "Epoch 12, Loss: 0.8819343447685242\n",
      "Epoch 13, Loss: 0.8702443242073059\n",
      "Epoch 14, Loss: 0.8609659671783447\n",
      "Epoch 15, Loss: 0.860462486743927\n",
      "Epoch 16, Loss: 0.8478593826293945\n",
      "Epoch 17, Loss: 0.8436150550842285\n",
      "Epoch 18, Loss: 0.8513866662979126\n",
      "Epoch 19, Loss: 0.846174418926239\n",
      "Epoch 20, Loss: 0.8403841257095337\n",
      "Epoch 21, Loss: 0.837346076965332\n",
      "Epoch 22, Loss: 0.8340162634849548\n",
      "Epoch 23, Loss: 0.8346619009971619\n",
      "Epoch 24, Loss: 0.8317292928695679\n",
      "Epoch 25, Loss: 0.8286949992179871\n",
      "Epoch 26, Loss: 0.8289278149604797\n",
      "Epoch 27, Loss: 0.8246740102767944\n",
      "Epoch 28, Loss: 0.826852023601532\n",
      "Epoch 29, Loss: 0.8264240026473999\n",
      "Epoch 30, Loss: 0.8237720727920532\n",
      "Epoch 31, Loss: 0.8216966390609741\n",
      "Epoch 32, Loss: 0.8212849497795105\n",
      "Epoch 33, Loss: 0.8210108280181885\n",
      "Epoch 34, Loss: 0.8185383081436157\n",
      "Epoch 35, Loss: 0.8201205134391785\n",
      "Epoch 36, Loss: 0.8190625309944153\n",
      "Epoch 37, Loss: 0.8273073434829712\n",
      "Epoch 38, Loss: 0.8191555738449097\n",
      "Epoch 39, Loss: 0.8150662183761597\n",
      "Epoch 40, Loss: 0.8445830345153809\n",
      "Epoch 41, Loss: 0.8148300647735596\n",
      "Epoch 42, Loss: 0.8254342675209045\n",
      "Epoch 43, Loss: 0.8350440859794617\n",
      "Epoch 44, Loss: 0.8266565799713135\n",
      "Epoch 45, Loss: 0.8200043439865112\n",
      "Epoch 46, Loss: 0.8263834714889526\n",
      "Epoch 47, Loss: 0.8358364105224609\n",
      "Epoch 48, Loss: 0.8469734191894531\n",
      "Epoch 49, Loss: 0.8416504859924316\n",
      "Epoch 50, Loss: 0.8421520590782166\n",
      "Epoch 51, Loss: 0.8416492938995361\n",
      "Epoch 52, Loss: 0.8473741412162781\n",
      "Epoch 53, Loss: 0.8432806730270386\n",
      "Epoch 54, Loss: 0.8526327610015869\n",
      "Epoch 55, Loss: 0.8426167964935303\n",
      "Epoch 56, Loss: 0.8407705426216125\n",
      "Epoch 57, Loss: 0.8421835899353027\n",
      "Epoch 58, Loss: 0.8367111682891846\n",
      "Epoch 59, Loss: 0.8410311341285706\n",
      "Epoch 60, Loss: 0.8328038454055786\n",
      "Epoch 61, Loss: 0.8317571878433228\n",
      "Epoch 62, Loss: 0.8249457478523254\n",
      "Epoch 63, Loss: 0.8260518312454224\n",
      "Epoch 64, Loss: 0.831807553768158\n",
      "Epoch 65, Loss: 0.8319025039672852\n",
      "Epoch 66, Loss: 0.8300574421882629\n",
      "Epoch 67, Loss: 0.833877682685852\n",
      "Epoch 68, Loss: 0.8347629904747009\n",
      "Epoch 69, Loss: 0.8396600484848022\n",
      "Epoch 70, Loss: 0.8252153396606445\n",
      "Epoch 71, Loss: 0.8451246023178101\n",
      "Epoch 72, Loss: 0.825872004032135\n",
      "Epoch 73, Loss: 0.8226637840270996\n",
      "Epoch 74, Loss: 0.8244809508323669\n",
      "Epoch 75, Loss: 0.818553626537323\n",
      "Epoch 76, Loss: 0.8239870667457581\n",
      "Epoch 77, Loss: 0.8194820880889893\n",
      "Epoch 78, Loss: 0.8187369108200073\n",
      "Epoch 79, Loss: 0.8293752074241638\n",
      "Epoch 80, Loss: 0.822257936000824\n",
      "Epoch 81, Loss: 0.8192350268363953\n",
      "Epoch 82, Loss: 0.8341599702835083\n",
      "Epoch 83, Loss: 0.8191254734992981\n",
      "Epoch 84, Loss: 0.8184884786605835\n",
      "Epoch 85, Loss: 0.8156282901763916\n",
      "Epoch 86, Loss: 0.8124064207077026\n",
      "Epoch 87, Loss: 0.8362007141113281\n",
      "Epoch 88, Loss: 0.8179625868797302\n",
      "Epoch 89, Loss: 0.8149893879890442\n",
      "Epoch 90, Loss: 0.8120566010475159\n",
      "Epoch 91, Loss: 0.8187073469161987\n",
      "Epoch 92, Loss: 0.8094784021377563\n",
      "Epoch 93, Loss: 0.8089680671691895\n",
      "Epoch 94, Loss: 0.8091889023780823\n",
      "Epoch 95, Loss: 0.8167039155960083\n",
      "Epoch 96, Loss: 0.8074233531951904\n",
      "Epoch 97, Loss: 0.8160215020179749\n",
      "Epoch 98, Loss: 0.8130659461021423\n",
      "Epoch 99, Loss: 0.8066331744194031\n",
      "Epoch 100, Loss: 0.809344470500946\n",
      "Epoch 101, Loss: 0.8137982487678528\n",
      "Epoch 102, Loss: 0.8103376626968384\n",
      "Epoch 103, Loss: 0.8265771865844727\n",
      "Epoch 104, Loss: 0.8165575861930847\n",
      "Epoch 105, Loss: 0.8275783061981201\n",
      "Epoch 106, Loss: 0.81098473072052\n",
      "Epoch 107, Loss: 0.8122578263282776\n",
      "Epoch 108, Loss: 0.8098837733268738\n",
      "Epoch 109, Loss: 0.8086070418357849\n",
      "Epoch 110, Loss: 0.8077172040939331\n",
      "Epoch 111, Loss: 0.8096988797187805\n",
      "Epoch 112, Loss: 0.8092479109764099\n",
      "Epoch 113, Loss: 0.8411345481872559\n",
      "Epoch 114, Loss: 0.806708574295044\n",
      "Epoch 115, Loss: 0.8165256381034851\n",
      "Epoch 116, Loss: 0.8106716275215149\n",
      "Epoch 117, Loss: 0.807636022567749\n",
      "Epoch 118, Loss: 0.8139351606369019\n",
      "Epoch 119, Loss: 0.8257532715797424\n",
      "Epoch 120, Loss: 0.8145684003829956\n",
      "Epoch 121, Loss: 0.8241305947303772\n",
      "Epoch 122, Loss: 0.8359549045562744\n",
      "Epoch 123, Loss: 0.8137483596801758\n",
      "Epoch 124, Loss: 0.8192116022109985\n",
      "Epoch 125, Loss: 0.8236023783683777\n",
      "Epoch 126, Loss: 0.8090950846672058\n",
      "Epoch 127, Loss: 0.8091568946838379\n",
      "Epoch 128, Loss: 0.8100484013557434\n",
      "Epoch 129, Loss: 0.8075891137123108\n",
      "Epoch 130, Loss: 0.808814525604248\n",
      "Epoch 131, Loss: 0.8191074728965759\n",
      "Epoch 132, Loss: 0.8142473697662354\n",
      "Epoch 133, Loss: 0.8072215914726257\n",
      "Epoch 134, Loss: 0.824796199798584\n",
      "Epoch 135, Loss: 0.8120173215866089\n",
      "Epoch 136, Loss: 0.8080832958221436\n",
      "Epoch 137, Loss: 0.8135565519332886\n",
      "Epoch 138, Loss: 0.8077360391616821\n",
      "Epoch 139, Loss: 0.8136498332023621\n",
      "Epoch 140, Loss: 0.8103550672531128\n",
      "Epoch 141, Loss: 0.7988311648368835\n",
      "Epoch 142, Loss: 0.8007538318634033\n",
      "Epoch 143, Loss: 0.8042008280754089\n",
      "Epoch 144, Loss: 0.8183093070983887\n",
      "Epoch 145, Loss: 0.8019540309906006\n",
      "Epoch 146, Loss: 0.8014090657234192\n",
      "Epoch 147, Loss: 0.8051510453224182\n",
      "Epoch 148, Loss: 0.8109825849533081\n",
      "Epoch 149, Loss: 0.8033254146575928\n",
      "Epoch 150, Loss: 0.8028997182846069\n",
      "Epoch 151, Loss: 0.8040237426757812\n",
      "Epoch 152, Loss: 0.805145263671875\n",
      "Epoch 153, Loss: 0.8227254152297974\n",
      "Epoch 154, Loss: 0.8123484253883362\n",
      "Epoch 155, Loss: 0.8023784160614014\n",
      "Epoch 156, Loss: 0.8032464981079102\n",
      "Epoch 157, Loss: 0.8068569898605347\n",
      "Epoch 158, Loss: 0.8026235699653625\n",
      "Epoch 159, Loss: 0.8053006529808044\n",
      "Epoch 160, Loss: 0.803674578666687\n",
      "Epoch 161, Loss: 0.8033777475357056\n",
      "Epoch 162, Loss: 0.793549120426178\n",
      "Epoch 163, Loss: 0.7971271276473999\n",
      "Epoch 164, Loss: 0.7979201078414917\n",
      "Epoch 165, Loss: 0.7975789308547974\n",
      "Epoch 166, Loss: 0.7973236441612244\n",
      "Epoch 167, Loss: 0.7937338948249817\n",
      "Epoch 168, Loss: 0.7917908430099487\n",
      "Epoch 169, Loss: 0.798087477684021\n",
      "Epoch 170, Loss: 0.7973990440368652\n",
      "Epoch 171, Loss: 0.794357419013977\n",
      "Epoch 172, Loss: 0.8016835451126099\n",
      "Epoch 173, Loss: 0.7952294945716858\n",
      "Epoch 174, Loss: 0.7995308637619019\n",
      "Epoch 175, Loss: 0.7949323058128357\n",
      "Epoch 176, Loss: 0.7950250506401062\n",
      "Epoch 177, Loss: 0.7929493188858032\n",
      "Epoch 178, Loss: 0.8027356863021851\n",
      "Epoch 179, Loss: 0.7966697812080383\n",
      "Epoch 180, Loss: 0.799025297164917\n",
      "Epoch 181, Loss: 0.8048554062843323\n",
      "Epoch 182, Loss: 0.7999076843261719\n",
      "Epoch 183, Loss: 0.7978692054748535\n",
      "Epoch 184, Loss: 0.7956275343894958\n",
      "Epoch 185, Loss: 0.8115997314453125\n",
      "Epoch 186, Loss: 0.808870792388916\n",
      "Epoch 187, Loss: 0.7914489507675171\n",
      "Epoch 188, Loss: 0.7953882217407227\n",
      "Epoch 189, Loss: 0.8037317395210266\n",
      "Epoch 190, Loss: 0.8032800555229187\n",
      "Epoch 191, Loss: 0.8004775047302246\n",
      "Epoch 192, Loss: 0.8105421662330627\n",
      "Epoch 193, Loss: 0.8008429408073425\n",
      "Epoch 194, Loss: 0.7947809100151062\n",
      "Epoch 195, Loss: 0.7961453199386597\n",
      "Epoch 196, Loss: 0.7905519008636475\n",
      "Epoch 197, Loss: 0.7899889349937439\n",
      "Epoch 198, Loss: 0.7941068410873413\n",
      "Epoch 199, Loss: 0.7915316224098206\n"
     ]
    }
   ],
   "source": [
    "# トレーニングループ\n",
    "num_epochs = 200\n",
    "for epoch in range(num_epochs):\n",
    "    model.train()\n",
    "    optimizer.zero_grad()\n",
    "    z = model(X, edge_index)\n",
    "\n",
    "    # 正のエッジと負のエッジの存在確率の予測\n",
    "    pos_edge_prob = predict_edge_prob(pos_edge_index, z)\n",
    "    neg_edge_prob = predict_edge_prob(neg_edge_index, z)\n",
    "\n",
    "    # 損失関数の計算\n",
    "    loss = binary_cross_entropy_loss(pos_edge_prob, neg_edge_prob)\n",
    "    loss.backward()\n",
    "    optimizer.step()\n",
    "    print(f'Epoch {epoch}, Loss: {loss.item()}')"
   ]
  },
  {
   "cell_type": "markdown",
   "metadata": {},
   "source": [
    "### テストデータの特徴量作成"
   ]
  },
  {
   "cell_type": "code",
   "execution_count": 60,
   "metadata": {},
   "outputs": [
    {
     "name": "stdout",
     "output_type": "stream",
     "text": [
      "エッジ数：48344\n",
      "Number of nodes: 312920\n",
      "Number of edges: 48344\n"
     ]
    }
   ],
   "source": [
    "# ノードに整数インデックスを割り当てる\n",
    "node_to_index = {node: i for i, node in enumerate(G_test.nodes())}\n",
    "\n",
    "# エッジリストを整数インデックスに変換\n",
    "edge_list_int = [(node_to_index[u], node_to_index[v]) for u, v in G_test.edges()]\n",
    "\n",
    "print(f\"エッジ数：{len(edge_list_int)}\")\n",
    "\n",
    "num_nodes = len(G_test.nodes)\n",
    "\n",
    "embedding_dim = 128  # 埋め込み次元\n",
    "\n",
    "# 整数インデックスのエッジリストをテンソルに変換\n",
    "test_edge_index = torch.tensor(edge_list_int, dtype=torch.long).t().contiguous()\n",
    "# ノードの初期特徴量をランダムに設定\n",
    "X = torch.randn((num_nodes, embedding_dim))\n",
    "\n",
    "# PyTorch Geometric の Data オブジェクトを作成\n",
    "data = Data(x=X, edge_index=test_edge_index)\n",
    "\n",
    "print(f\"Number of nodes: {data.num_nodes}\")\n",
    "print(f\"Number of edges: {data.num_edges}\")"
   ]
  },
  {
   "cell_type": "code",
   "execution_count": 61,
   "metadata": {},
   "outputs": [],
   "source": [
    "# CSVファイルを読み込む\n",
    "df_negative_edges = pd.read_csv('./experiment/dataset/negative_edges.csv')\n",
    "\n",
    "# リストに変換\n",
    "negative_edges = df_negative_edges.values.tolist()"
   ]
  },
  {
   "cell_type": "code",
   "execution_count": 62,
   "metadata": {},
   "outputs": [],
   "source": [
    "test_pos_edge_index = test_edge_index\n",
    "test_neg_edge_index = torch.tensor(negative_edges, dtype=torch.long).t().contiguous()"
   ]
  },
  {
   "cell_type": "code",
   "execution_count": 63,
   "metadata": {},
   "outputs": [
    {
     "name": "stdout",
     "output_type": "stream",
     "text": [
      "ROC AUC Score: 0.9064\n"
     ]
    },
    {
     "data": {
      "image/png": "[encoded data removed]",
      "text/plain": [
       "<Figure size 432x288 with 1 Axes>"
      ]
     },
     "metadata": {
      "needs_background": "light"
     },
     "output_type": "display_data"
    }
   ],
   "source": [
    "import numpy as np\n",
    "from sklearn.metrics import roc_auc_score, roc_curve, auc\n",
    "import matplotlib.pyplot as plt\n",
    "import torch\n",
    "\n",
    "# 評価\n",
    "model.eval()\n",
    "with torch.no_grad():\n",
    "    z = model(X, test_edge_index)\n",
    "    \n",
    "    # テストデータの準備\n",
    "    test_pos_prob = predict_edge_prob(test_pos_edge_index, z)\n",
    "    test_neg_prob = predict_edge_prob(test_neg_edge_index, z)\n",
    "    \n",
    "    # 予測確率を結合\n",
    "    y_pred = torch.cat([test_pos_prob, test_neg_prob])\n",
    "    \n",
    "    # 正解ラベルの作成\n",
    "    y_true = torch.cat([\n",
    "        torch.ones(test_pos_prob.size(0)), \n",
    "        torch.zeros(test_neg_prob.size(0))\n",
    "    ])\n",
    "    \n",
    "    # シャッフル用のインデックスを生成\n",
    "    shuffle_idx = torch.randperm(len(y_true))\n",
    "\n",
    "    \n",
    "    # データをシャッフル\n",
    "    y_true = y_true[shuffle_idx]\n",
    "    y_pred = y_pred[shuffle_idx]\n",
    "    \n",
    "    # numpy配列に変換\n",
    "    y_true = y_true.cpu().numpy()\n",
    "    y_pred = y_pred.cpu().numpy()\n",
    "    \n",
    "    # ROC AUCスコアの計算\n",
    "    roc_auc = roc_auc_score(y_true, y_pred)\n",
    "    print(f'ROC AUC Score: {roc_auc:.4f}')\n",
    "\n",
    "    # ROC曲線の描画\n",
    "    fpr, tpr, thresholds = roc_curve(y_true, y_pred)\n",
    "    roc_auc = auc(fpr, tpr)\n",
    "\n",
    "    plt.figure()\n",
    "    plt.plot(fpr, tpr, color='darkorange', lw=2, label=f'ROC curve (area = {roc_auc:.2f})')\n",
    "    plt.xlim([0.0, 1.0])\n",
    "    plt.ylim([0.0, 1.0])\n",
    "    plt.xlabel('False Positive Rate')\n",
    "    plt.ylabel('True Positive Rate')\n",
    "    plt.title('ROC Curve')\n",
    "    plt.legend(loc=\"lower right\")\n",
    "    plt.show()"
   ]
  },
  {
   "cell_type": "markdown",
   "metadata": {},
   "source": [
    "##### F1score"
   ]
  },
  {
   "cell_type": "code",
   "execution_count": 64,
   "metadata": {},
   "outputs": [
    {
     "name": "stdout",
     "output_type": "stream",
     "text": [
      "F1 Score: 0.7330\n"
     ]
    },
    {
     "data": {
      "image/png": "[encoded data removed]",
      "text/plain": [
       "<Figure size 432x288 with 1 Axes>"
      ]
     },
     "metadata": {
      "needs_background": "light"
     },
     "output_type": "display_data"
    }
   ],
   "source": [
    "import numpy as np\n",
    "from sklearn.metrics import f1_score, precision_recall_curve\n",
    "import matplotlib.pyplot as plt\n",
    "\n",
    "# y_predを二値化するための閾値を設定\n",
    "threshold = 0.5\n",
    "\n",
    "# y_predを二値化\n",
    "y_pred_binary = (np.array(y_pred) >= threshold).astype(int)\n",
    "\n",
    "# F1スコアの計算\n",
    "f1 = f1_score(y_true, y_pred_binary)\n",
    "print(f'F1 Score: {f1:.4f}')\n",
    "\n",
    "# 適合率と再現率の曲線を計算\n",
    "precision, recall, thresholds = precision_recall_curve(y_true, y_pred)\n",
    "\n",
    "# 各閾値でのF1スコアを計算\n",
    "f1_scores = 2 * (precision * recall) / (precision + recall)\n",
    "f1_scores = np.nan_to_num(f1_scores)  # NaNを0に置換\n",
    "\n",
    "plt.figure()\n",
    "plt.plot(recall, precision, color='b', lw=2, label='Precision-Recall curve')\n",
    "plt.plot(recall, f1_scores, color='r', lw=2, label='F1 Score curve')\n",
    "plt.xlabel('Recall')\n",
    "plt.ylabel('Score')\n",
    "plt.title('F1Score(Precision-Recall) Curves')\n",
    "plt.legend(loc=\"lower left\")\n",
    "plt.show()"
   ]
  },
  {
   "cell_type": "code",
   "execution_count": null,
   "metadata": {},
   "outputs": [],
   "source": []
  },
  {
   "cell_type": "code",
   "execution_count": null,
   "metadata": {},
   "outputs": [],
   "source": []
  }
 ],
 "metadata": {
  "kernelspec": {
   "display_name": "Python 3",
   "language": "python",
   "name": "python3"
  },
  "language_info": {
   "codemirror_mode": {
    "name": "ipython",
    "version": 3
   },
   "file_extension": ".py",
   "mimetype": "text/x-python",
   "name": "python",
   "nbconvert_exporter": "python",
   "pygments_lexer": "ipython3",
   "version": "3.8.10"
  }
 },
 "nbformat": 4,
 "nbformat_minor": 4
}
