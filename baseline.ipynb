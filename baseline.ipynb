{
 "cells": [
  {
   "cell_type": "code",
   "execution_count": 17,
   "metadata": {},
   "outputs": [
    {
     "name": "stdout",
     "output_type": "stream",
     "text": [
      "PyTorch version: 2.0.1+cu117\n",
      "CUDA version: 11.7\n"
     ]
    }
   ],
   "source": [
    "import torch\n",
    "print(f\"PyTorch version: {torch.__version__}\")\n",
    "print(f\"CUDA version: {torch.version.cuda}\")"
   ]
  },
  {
   "cell_type": "code",
   "execution_count": 18,
   "metadata": {},
   "outputs": [
    {
     "name": "stdout",
     "output_type": "stream",
     "text": [
      "Requirement already satisfied: japanize-matplotlib in /usr/local/lib/python3.8/dist-packages (1.1.3)\n",
      "Requirement already satisfied: matplotlib in /usr/local/lib/python3.8/dist-packages (from japanize-matplotlib) (3.7.1)\n",
      "Requirement already satisfied: contourpy>=1.0.1 in /usr/local/lib/python3.8/dist-packages (from matplotlib->japanize-matplotlib) (1.1.1)\n"
     ]
    },
    {
     "name": "stdout",
     "output_type": "stream",
     "text": [
      "Requirement already satisfied: cycler>=0.10 in /usr/local/lib/python3.8/dist-packages (from matplotlib->japanize-matplotlib) (0.12.1)\n",
      "Requirement already satisfied: fonttools>=4.22.0 in /usr/local/lib/python3.8/dist-packages (from matplotlib->japanize-matplotlib) (4.54.1)\n",
      "Requirement already satisfied: kiwisolver>=1.0.1 in /usr/local/lib/python3.8/dist-packages (from matplotlib->japanize-matplotlib) (1.4.4)\n",
      "Requirement already satisfied: numpy>=1.20 in /usr/local/lib/python3.8/dist-packages (from matplotlib->japanize-matplotlib) (1.22.4)\n",
      "Requirement already satisfied: packaging>=20.0 in /usr/local/lib/python3.8/dist-packages (from matplotlib->japanize-matplotlib) (23.1)\n",
      "Requirement already satisfied: pillow>=6.2.0 in /usr/local/lib/python3.8/dist-packages (from matplotlib->japanize-matplotlib) (8.4.0)\n",
      "Requirement already satisfied: pyparsing>=2.3.1 in /usr/local/lib/python3.8/dist-packages (from matplotlib->japanize-matplotlib) (3.1.4)\n",
      "Requirement already satisfied: python-dateutil>=2.7 in /usr/local/lib/python3.8/dist-packages (from matplotlib->japanize-matplotlib) (2.8.2)\n",
      "Requirement already satisfied: importlib-resources>=3.2.0 in /usr/local/lib/python3.8/dist-packages (from matplotlib->japanize-matplotlib) (5.12.0)\n",
      "Requirement already satisfied: zipp>=3.1.0 in /usr/local/lib/python3.8/dist-packages (from importlib-resources>=3.2.0->matplotlib->japanize-matplotlib) (3.15.0)\n",
      "Requirement already satisfied: six>=1.5 in /usr/local/lib/python3.8/dist-packages (from python-dateutil>=2.7->matplotlib->japanize-matplotlib) (1.16.0)\n",
      "\u001b[33mWARNING: Running pip as the 'root' user can result in broken permissions and conflicting behaviour with the system package manager, possibly rendering your system unusable.It is recommended to use a virtual environment instead: https://pip.pypa.io/warnings/venv. Use the --root-user-action option if you know what you are doing and want to suppress this warning.\u001b[0m\u001b[33m\n",
      "\u001b[0mRequirement already satisfied: torch-geometric in /usr/local/lib/python3.8/dist-packages (2.6.1)\n",
      "Requirement already satisfied: aiohttp in /usr/local/lib/python3.8/dist-packages (from torch-geometric) (3.10.9)\n",
      "Requirement already satisfied: fsspec in /usr/local/lib/python3.8/dist-packages (from torch-geometric) (2024.2.0)\n",
      "Requirement already satisfied: jinja2 in /usr/local/lib/python3.8/dist-packages (from torch-geometric) (3.1.2)\n",
      "Requirement already satisfied: numpy in /usr/local/lib/python3.8/dist-packages (from torch-geometric) (1.22.4)\n",
      "Requirement already satisfied: psutil>=5.8.0 in /usr/local/lib/python3.8/dist-packages (from torch-geometric) (5.9.5)\n",
      "Requirement already satisfied: pyparsing in /usr/local/lib/python3.8/dist-packages (from torch-geometric) (3.1.4)\n",
      "Requirement already satisfied: requests in /usr/local/lib/python3.8/dist-packages (from torch-geometric) (2.27.1)\n",
      "Requirement already satisfied: tqdm in /usr/local/lib/python3.8/dist-packages (from torch-geometric) (4.65.0)\n",
      "Requirement already satisfied: aiohappyeyeballs>=2.3.0 in /usr/local/lib/python3.8/dist-packages (from aiohttp->torch-geometric) (2.4.3)\n",
      "Requirement already satisfied: aiosignal>=1.1.2 in /usr/local/lib/python3.8/dist-packages (from aiohttp->torch-geometric) (1.3.1)\n",
      "Requirement already satisfied: attrs>=17.3.0 in /usr/local/lib/python3.8/dist-packages (from aiohttp->torch-geometric) (24.2.0)\n",
      "Requirement already satisfied: frozenlist>=1.1.1 in /usr/local/lib/python3.8/dist-packages (from aiohttp->torch-geometric) (1.4.1)\n",
      "Requirement already satisfied: multidict<7.0,>=4.5 in /usr/local/lib/python3.8/dist-packages (from aiohttp->torch-geometric) (6.1.0)\n",
      "Requirement already satisfied: yarl<2.0,>=1.12.0 in /usr/local/lib/python3.8/dist-packages (from aiohttp->torch-geometric) (1.13.1)\n",
      "Requirement already satisfied: async-timeout<5.0,>=4.0 in /usr/local/lib/python3.8/dist-packages (from aiohttp->torch-geometric) (4.0.3)\n",
      "Requirement already satisfied: MarkupSafe>=2.0 in /usr/local/lib/python3.8/dist-packages (from jinja2->torch-geometric) (2.1.2)\n",
      "Requirement already satisfied: urllib3<1.27,>=1.21.1 in /usr/local/lib/python3.8/dist-packages (from requests->torch-geometric) (1.26.15)\n",
      "Requirement already satisfied: certifi>=2017.4.17 in /usr/lib/python3/dist-packages (from requests->torch-geometric) (2019.11.28)\n",
      "Requirement already satisfied: charset-normalizer~=2.0.0 in /usr/local/lib/python3.8/dist-packages (from requests->torch-geometric) (2.0.12)\n",
      "Requirement already satisfied: idna<4,>=2.5 in /usr/local/lib/python3.8/dist-packages (from requests->torch-geometric) (3.4)\n",
      "Requirement already satisfied: typing-extensions>=4.1.0 in /usr/local/lib/python3.8/dist-packages (from multidict<7.0,>=4.5->aiohttp->torch-geometric) (4.5.0)\n",
      "\u001b[33mWARNING: Running pip as the 'root' user can result in broken permissions and conflicting behaviour with the system package manager, possibly rendering your system unusable.It is recommended to use a virtual environment instead: https://pip.pypa.io/warnings/venv. Use the --root-user-action option if you know what you are doing and want to suppress this warning.\u001b[0m\u001b[33m\n",
      "\u001b[0m"
     ]
    }
   ],
   "source": [
    "!pip install japanize-matplotlib\n",
    "!pip install torch-geometric"
   ]
  },
  {
   "cell_type": "code",
   "execution_count": 19,
   "metadata": {},
   "outputs": [],
   "source": [
    "import networkx as nx\n",
    "import matplotlib.pyplot as plt\n",
    "import japanize_matplotlib\n",
    "import numpy as np\n",
    "import pandas as pd\n",
    "import torch\n",
    "from random import random\n",
    "import torch.nn as nn\n",
    "import torch\n",
    "import torch.nn.functional as F\n",
    "from torch_geometric.nn import GCNConv\n",
    "from torch_geometric.data import Data\n",
    "from sklearn.metrics import roc_auc_score, roc_curve\n"
   ]
  },
  {
   "cell_type": "markdown",
   "metadata": {},
   "source": [
    "## 元データの読み込み"
   ]
  },
  {
   "cell_type": "code",
   "execution_count": 20,
   "metadata": {},
   "outputs": [
    {
     "name": "stdout",
     "output_type": "stream",
     "text": [
      "Number of nodes: 312920\n",
      "Number of edges: 464405\n"
     ]
    }
   ],
   "source": [
    "import networkx as nx\n",
    "import pandas as pd\n",
    "import matplotlib.pyplot as plt\n",
    "\n",
    "# CSVファイルの読み込み\n",
    "df = pd.read_csv('./experiment/dataset/contracts.csv')\n",
    "\n",
    "# MultiGraphの作成\n",
    "G = nx.MultiGraph()\n",
    "\n",
    "# エッジの追加（重複を許可）\n",
    "for _, row in df.iterrows():\n",
    "    G.add_edge(row['from_address'], row['to_address'])\n",
    "\n",
    "# グラフの基本情報を表示\n",
    "print(f\"Number of nodes: {G.number_of_nodes()}\")\n",
    "print(f\"Number of edges: {G.number_of_edges()}\")"
   ]
  },
  {
   "cell_type": "markdown",
   "metadata": {},
   "source": [
    "## 実験用データのグラフ分割"
   ]
  },
  {
   "cell_type": "code",
   "execution_count": 21,
   "metadata": {},
   "outputs": [
    {
     "name": "stdout",
     "output_type": "stream",
     "text": [
      "Number of nodes: 24284\n",
      "Number of edges: 46441\n",
      "Number of train_nodes: 295219\n",
      "Number of test_edges: 417966\n"
     ]
    }
   ],
   "source": [
    "\"\"\" テストデータのinput(トレインデータ作成用) \"\"\"\n",
    "df = pd.read_csv('./experiment/dataset/test_data.csv')\n",
    "\n",
    "# MultiGraphの作成\n",
    "G_test = nx.MultiGraph()\n",
    "\n",
    "# エッジの追加（重複を許可）\n",
    "for _, row in df.iterrows():\n",
    "    G_test.add_edge(row['from_address'], row['to_address'])\n",
    "\n",
    "# グラフの基本情報を表示\n",
    "print(f\"Number of nodes: {G_test.number_of_nodes()}\")\n",
    "print(f\"Number of edges: {G_test.number_of_edges()}\")\n",
    "\n",
    "\"\"\" トレインデータのinput(テストデータ作成用) \"\"\"\n",
    "\n",
    "df = pd.read_csv('./experiment/dataset/train_data.csv')\n",
    "\n",
    "G_train = nx.MultiGraph()\n",
    "\n",
    "#エッジの追加\n",
    "for _, row in df.iterrows():\n",
    "    G_train.add_edge(row['from_address'], row['to_address'])\n",
    "\n",
    "print(f\"Number of train_nodes: {G_train.number_of_nodes()}\")\n",
    "print(f\"Number of test_edges: {G_train.number_of_edges()}\")"
   ]
  },
  {
   "cell_type": "markdown",
   "metadata": {},
   "source": [
    "### データセット分割"
   ]
  },
  {
   "cell_type": "code",
   "execution_count": 22,
   "metadata": {},
   "outputs": [],
   "source": [
    "#テストグラフの作成(ノードの数は一緒)\n",
    "def remove_edges(G, edges_to_remove):\n",
    "    G.remove_edges_from(edges_to_remove)\n",
    "    G.remove_edges_from([(v, u) for (u, v) in edges_to_remove])"
   ]
  },
  {
   "cell_type": "markdown",
   "metadata": {},
   "source": [
    "### 訓練データ"
   ]
  },
  {
   "cell_type": "code",
   "execution_count": 23,
   "metadata": {},
   "outputs": [
    {
     "name": "stdout",
     "output_type": "stream",
     "text": [
      "Number of nodes: 312920\n",
      "Number of edges: 412930\n"
     ]
    }
   ],
   "source": [
    "G_train = G.copy()\n",
    "remove_edges(G_train, list(G_test.edges()))\n",
    "print(f\"Number of nodes: {G_train.number_of_nodes()}\")\n",
    "print(f\"Number of edges: {G_train.number_of_edges()}\")"
   ]
  },
  {
   "cell_type": "markdown",
   "metadata": {},
   "source": [
    "### テストデータ"
   ]
  },
  {
   "cell_type": "code",
   "execution_count": 24,
   "metadata": {},
   "outputs": [
    {
     "name": "stdout",
     "output_type": "stream",
     "text": [
      "Number of test_nodes: 312920\n",
      "Number of test_edges: 48344\n"
     ]
    }
   ],
   "source": [
    "G_test = G.copy()\n",
    "remove_edges(G_test, list(G_train.edges()))\n",
    "print(f\"Number of test_nodes: {G_test.number_of_nodes()}\")\n",
    "print(f\"Number of test_edges: {G_test.number_of_edges()}\")"
   ]
  },
  {
   "cell_type": "markdown",
   "metadata": {},
   "source": [
    "## 実装"
   ]
  },
  {
   "cell_type": "markdown",
   "metadata": {},
   "source": [
    "### データセットの加工(ネットワークをFromとToにする)"
   ]
  },
  {
   "cell_type": "markdown",
   "metadata": {},
   "source": [
    "#### 元グラフのedge_index化"
   ]
  },
  {
   "cell_type": "code",
   "execution_count": 25,
   "metadata": {},
   "outputs": [
    {
     "name": "stdout",
     "output_type": "stream",
     "text": [
      "エッジ数：464405\n",
      "ノード数312920\n",
      "tensor([[     0,      0,      0,  ..., 312909, 312913, 312916],\n",
      "        [     1,    554,    554,  ..., 312910, 312914, 312917]])\n"
     ]
    }
   ],
   "source": [
    "# ノードに整数インデックスを割り当てる\n",
    "node_to_index = {node: i for i, node in enumerate(G.nodes())}\n",
    "\n",
    "# エッジリストを整数インデックスに変換\n",
    "edge_list_int = [(node_to_index[u], node_to_index[v]) for u, v in G.edges()]\n",
    "\n",
    "print(f\"エッジ数：{len(edge_list_int)}\")\n",
    "\n",
    "num_nodes = len(G.nodes)\n",
    "\n",
    "\n",
    "print(f\"ノード数{num_nodes}\")\n",
    "\n",
    "# 整数インデックスのエッジリストをテンソルに変換\n",
    "edge_index = torch.tensor(edge_list_int, dtype=torch.long).t().contiguous()\n",
    "\n",
    "print(edge_index)"
   ]
  },
  {
   "cell_type": "markdown",
   "metadata": {},
   "source": [
    "#### 学習データのedge_index化"
   ]
  },
  {
   "cell_type": "code",
   "execution_count": 26,
   "metadata": {},
   "outputs": [
    {
     "name": "stdout",
     "output_type": "stream",
     "text": [
      "エッジ数：412930\n",
      "ノード数312920\n",
      "tensor([[     0,      0,      0,  ..., 295168, 295180, 295205],\n",
      "        [     1,    554,    554,  ..., 295169, 295181, 295206]])\n"
     ]
    }
   ],
   "source": [
    "# ノードに整数インデックスを割り当てる\n",
    "node_to_index = {node: i for i, node in enumerate(G_train.nodes())}\n",
    "\n",
    "# エッジリストを整数インデックスに変換\n",
    "edge_list_int = [(node_to_index[u], node_to_index[v]) for u, v in G_train.edges()]\n",
    "\n",
    "print(f\"エッジ数：{len(edge_list_int)}\")\n",
    "\n",
    "num_nodes = len(G_train.nodes)\n",
    "\n",
    "\n",
    "print(f\"ノード数{num_nodes}\")\n",
    "\n",
    "# 整数インデックスのエッジリストをテンソルに変換\n",
    "train_edge_index = torch.tensor(edge_list_int, dtype=torch.long).t().contiguous()\n",
    "\n",
    "\n",
    "print(train_edge_index)"
   ]
  },
  {
   "cell_type": "markdown",
   "metadata": {},
   "source": [
    "#### テストデータの分割edge_index化"
   ]
  },
  {
   "cell_type": "code",
   "execution_count": 27,
   "metadata": {},
   "outputs": [
    {
     "name": "stdout",
     "output_type": "stream",
     "text": [
      "エッジ数：48344\n",
      "ノード数312920\n",
      "tensor([[     0,      0,      0,  ..., 312909, 312913, 312916],\n",
      "        [   140,    140,    140,  ..., 312910, 312914, 312917]])\n"
     ]
    }
   ],
   "source": [
    "# ノードに整数インデックスを割り当てる\n",
    "node_to_index = {node: i for i, node in enumerate(G_test.nodes())}\n",
    "\n",
    "# エッジリストを整数インデックスに変換\n",
    "edge_list_int = [(node_to_index[u], node_to_index[v]) for u, v in G_test.edges()]\n",
    "\n",
    "print(f\"エッジ数：{len(edge_list_int)}\")\n",
    "\n",
    "num_nodes = len(G_test.nodes)\n",
    "\n",
    "\n",
    "print(f\"ノード数{num_nodes}\")\n",
    "\n",
    "# 整数インデックスのエッジリストをテンソルに変換\n",
    "test_edge_index = torch.tensor(edge_list_int, dtype=torch.long).t().contiguous()\n",
    "\n",
    "\n",
    "print(test_edge_index)"
   ]
  },
  {
   "cell_type": "markdown",
   "metadata": {},
   "source": [
    "### ベースライン用のグラフの作成"
   ]
  },
  {
   "cell_type": "code",
   "execution_count": 48,
   "metadata": {},
   "outputs": [
    {
     "name": "stdout",
     "output_type": "stream",
     "text": [
      "Graph with 312920 nodes and 333010 edges\n"
     ]
    }
   ],
   "source": [
    "G_base_line = nx.MultiGraph()\n",
    "G_base_line.add_nodes_from(range(len(G.nodes)))\n",
    "G_base_line.add_edges_from(edge_index.t().tolist())\n",
    "G_base_line = nx.Graph(G_base_line)\n",
    "print(G_base_line)"
   ]
  },
  {
   "cell_type": "markdown",
   "metadata": {},
   "source": [
    "### テスト用のグラフを作成"
   ]
  },
  {
   "cell_type": "code",
   "execution_count": 49,
   "metadata": {},
   "outputs": [
    {
     "name": "stdout",
     "output_type": "stream",
     "text": [
      "Graph with 312920 nodes and 307845 edges\n"
     ]
    }
   ],
   "source": [
    "G_base_line_test = nx.MultiGraph()\n",
    "G_base_line_test.add_nodes_from(range(len(G_train.nodes)))\n",
    "G_base_line_test.add_edges_from(train_edge_index.t().tolist())\n",
    "G_base_line_test = nx.Graph(G_base_line_test)\n",
    "print(G_base_line_test)"
   ]
  },
  {
   "cell_type": "markdown",
   "metadata": {},
   "source": [
    "### エッジのインデックスの作成"
   ]
  },
  {
   "cell_type": "code",
   "execution_count": 29,
   "metadata": {},
   "outputs": [],
   "source": [
    "# 負例のエッジを生成\n",
    "def generate_negative_edges(G, n_samples, positive_edges):\n",
    "    negative_edges = []\n",
    "    positive_edges_set = set(map(tuple, positive_edges))\n",
    "    \n",
    "    while len(negative_edges) < n_samples:\n",
    "        print(len(negative_edges))\n",
    "        u = np.random.choice(list(G.nodes()))\n",
    "        v = np.random.choice(list(G.nodes()))\n",
    "        \n",
    "        if u != v and (u, v) not in positive_edges_set and (v, u) not in positive_edges_set:\n",
    "            negative_edges.append([u, v])\n",
    "    \n",
    "    return negative_edges"
   ]
  },
  {
   "cell_type": "markdown",
   "metadata": {},
   "source": [
    "#### 負例のエッジをCSVで作成"
   ]
  },
  {
   "cell_type": "code",
   "execution_count": 121,
   "metadata": {},
   "outputs": [],
   "source": [
    "pos_edge_index = test_edge_index.t().tolist()"
   ]
  },
  {
   "cell_type": "code",
   "execution_count": 144,
   "metadata": {},
   "outputs": [],
   "source": [
    "# # 負例のエッジを生成\n",
    "# negative_edges = generate_negative_edges(G_base_line, len(train_edge_index.t().tolist()), edge_index.t().tolist())\n",
    "# # データフレームに変換\n",
    "# df_negative_edges = pd.DataFrame(negative_edges, columns=['u', 'v'])\n",
    "\n",
    "# # CSVファイルに保存\n",
    "# df_negative_edges.to_csv('GCN_negative_edge.csv', index=False, header=True)"
   ]
  },
  {
   "cell_type": "code",
   "execution_count": 44,
   "metadata": {},
   "outputs": [],
   "source": [
    "# CSVファイルを読み込む\n",
    "df_negative_edges = pd.read_csv('./experiment/dataset/negative_edges.csv')\n",
    "\n",
    "# リストに変換\n",
    "negative_edges = df_negative_edges.values.tolist()"
   ]
  },
  {
   "cell_type": "code",
   "execution_count": 46,
   "metadata": {},
   "outputs": [],
   "source": [
    "pos_edge_index = test_edge_index.t().tolist()\n",
    "neg_edge_index = negative_edges\n",
    "print(f\"エッジ数：{len(pos_edge_index)}, エッジ；{pos_edge_index}\")\n",
    "print(f\"エッジ数：{len(neg_edge_index) }, エッジ；{neg_edge_index}\")"
   ]
  },
  {
   "cell_type": "markdown",
   "metadata": {},
   "source": [
    "## 共通の隣人"
   ]
  },
  {
   "cell_type": "markdown",
   "metadata": {},
   "source": [
    "#### ROC-AUC値"
   ]
  },
  {
   "cell_type": "code",
   "execution_count": 53,
   "metadata": {},
   "outputs": [
    {
     "name": "stdout",
     "output_type": "stream",
     "text": [
      "ROC-AUC: 0.4100\n"
     ]
    },
    {
     "data": {
      "image/png": "[encoded data removed]",
      "text/plain": [
       "<Figure size 432x288 with 1 Axes>"
      ]
     },
     "metadata": {
      "needs_background": "light"
     },
     "output_type": "display_data"
    }
   ],
   "source": [
    "def predict_links_normalized_common_neighbors(G, pos_edge_index, neg_edge_index):\n",
    "    predictions = []\n",
    "    labels = []\n",
    "    \n",
    "    # 正例の予測\n",
    "    for u, v in pos_edge_index:\n",
    "        common_neighbors = list(nx.common_neighbors(G, u, v))\n",
    "        score = len(common_neighbors)\n",
    "        predictions.append(score)\n",
    "        labels.append(1)  # 正例のラベルは1\n",
    "    \n",
    "    # 負例の予測\n",
    "    for u, v in neg_edge_index:\n",
    "        common_neighbors = list(nx.common_neighbors(G, u, v))\n",
    "        score = len(common_neighbors)\n",
    "        predictions.append(score)\n",
    "        labels.append(0)  # 負例のラベルは0\n",
    "        \n",
    "    predictions = np.array(predictions)\n",
    "    if len(predictions) > 0:\n",
    "        \"\"\" \n",
    "            正規化\n",
    "        \"\"\"\n",
    "        predictions = (predictions - predictions.min()) / (predictions.max() - predictions.min()) \n",
    "    return predictions, labels\n",
    "\n",
    "\n",
    "# 予測と評価\n",
    "predictions, labels = predict_links_normalized_common_neighbors(G_base_line_test, pos_edge_index, neg_edge_index)\n",
    "\n",
    "\n",
    "roc_auc = roc_auc_score(labels, predictions)\n",
    "print(f\"ROC-AUC: {roc_auc:.4f}\")\n",
    "\n",
    "fpr, tpr, thresholds = roc_curve(labels, predictions)\n",
    "\n",
    "# ROC AUC曲線のプロット\n",
    "plt.figure()\n",
    "plt.plot(fpr, tpr, color='darkorange', lw=2, label=f'ROC curve (area = {roc_auc:.2f})')\n",
    "plt.xlim([0.0, 1.0])\n",
    "plt.ylim([0.0, 1.0])\n",
    "plt.xlabel('False Positive Rate')\n",
    "plt.ylabel('True Positive Rate')\n",
    "plt.title('ROC Curve')\n",
    "plt.legend(loc=\"lower right\")\n",
    "plt.show()"
   ]
  },
  {
   "cell_type": "markdown",
   "metadata": {},
   "source": [
    "#### F1値"
   ]
  },
  {
   "cell_type": "code",
   "execution_count": null,
   "metadata": {},
   "outputs": [],
   "source": []
  },
  {
   "cell_type": "markdown",
   "metadata": {},
   "source": [
    "## Jaccard係数"
   ]
  },
  {
   "cell_type": "code",
   "execution_count": 80,
   "metadata": {},
   "outputs": [
    {
     "data": {
      "image/png": "[encoded data removed]",
      "text/plain": [
       "<Figure size 576x432 with 1 Axes>"
      ]
     },
     "metadata": {
      "needs_background": "light"
     },
     "output_type": "display_data"
    },
    {
     "name": "stdout",
     "output_type": "stream",
     "text": [
      "Jaccard Coefficient ROC-AUC: 0.3649\n"
     ]
    }
   ],
   "source": [
    "import networkx as nx\n",
    "import numpy as np\n",
    "from sklearn.metrics import roc_auc_score, roc_curve\n",
    "import matplotlib.pyplot as plt\n",
    "\n",
    "def predict_links_jaccard(G, pos_edge_index, neg_edge_index):\n",
    "    predictions = []\n",
    "    labels = []\n",
    "    \n",
    "    # 正例の予測\n",
    "    for u, v in pos_edge_index:\n",
    "        score = next(nx.jaccard_coefficient(G, [(u, v)]))[-1]\n",
    "        predictions.append(score)\n",
    "        labels.append(1)\n",
    "    \n",
    "    # 負例の予測\n",
    "    for u, v in neg_edge_index:\n",
    "        score = next(nx.jaccard_coefficient(G, [(u, v)]))[-1]\n",
    "        predictions.append(score)\n",
    "        labels.append(0)\n",
    "        \n",
    "    predictions = np.array(predictions)\n",
    "    if len(predictions) > 0:\n",
    "        \"\"\" \n",
    "            正規化\n",
    "        \"\"\"\n",
    "        predictions = (predictions - predictions.min()) / (predictions.max() - predictions.min()) \n",
    "    \n",
    "    return predictions, labels\n",
    "\n",
    "def evaluate_and_plot(predictions, labels):\n",
    "    roc_auc = roc_auc_score(labels, predictions)\n",
    "    fpr, tpr, _ = roc_curve(labels, predictions)\n",
    "    \n",
    "    plt.figure(figsize=(8, 6))\n",
    "    plt.plot(fpr, tpr, label=f'ROC curve (AUC = {roc_auc:.3f})')\n",
    "    plt.plot([0, 1], [0, 1], 'k--', label='Random')\n",
    "    plt.xlim([0.0, 1.0])\n",
    "    plt.ylim([0.0, 1.05])\n",
    "    plt.xlabel('False Positive Rate')\n",
    "    plt.ylabel('True Positive Rate')\n",
    "    plt.title('Receiver Operating Characteristic (ROC)')\n",
    "    plt.legend(loc='lower right')\n",
    "    plt.grid(True)\n",
    "    plt.show()\n",
    "    \n",
    "    return roc_auc\n",
    "\n",
    "predictions, labels = predict_links_jaccard(G_base_line_test, pos_edge_index, neg_edge_index)\n",
    "roc_auc = evaluate_and_plot(predictions, labels)\n",
    "print(f'Jaccard Coefficient ROC-AUC: {roc_auc:.4f}')\n"
   ]
  },
  {
   "cell_type": "markdown",
   "metadata": {},
   "source": [
    "## Adamic/Adar係数"
   ]
  },
  {
   "cell_type": "code",
   "execution_count": 82,
   "metadata": {},
   "outputs": [
    {
     "name": "stdout",
     "output_type": "stream",
     "text": [
      "ZeroDivisionError\n",
      "ZeroDivisionError\n",
      "ZeroDivisionError\n",
      "ZeroDivisionError\n",
      "ROC-AUC: 0.41\n"
     ]
    },
    {
     "data": {
      "image/png": "[encoded data removed]",
      "text/plain": [
       "<Figure size 432x288 with 1 Axes>"
      ]
     },
     "metadata": {
      "needs_background": "light"
     },
     "output_type": "display_data"
    }
   ],
   "source": [
    "import networkx as nx\n",
    "import numpy as np\n",
    "import matplotlib.pyplot as plt\n",
    "from sklearn.metrics import roc_auc_score, roc_curve\n",
    "\n",
    "\n",
    "# NetworkXの組み込みAdamic-Adar指数を使用\n",
    "def predict_links_adamic_adar(G, pos_edge_index, neg_edge_index):\n",
    "    predictions = []\n",
    "    labels = []\n",
    "    \n",
    "    # 正例の予測\n",
    "    for u, v in pos_edge_index:\n",
    "        try:\n",
    "            score = next(nx.adamic_adar_index(G, [(u, v)]))[-1]\n",
    "            predictions.append(score)\n",
    "        except ZeroDivisionError:\n",
    "            print(\"ZeroDivisionError\")\n",
    "            predictions.append(0)\n",
    "        \n",
    "        labels.append(1)\n",
    "    \n",
    "    # 負例の予測\n",
    "    for u, v in neg_edge_index:\n",
    "        try:\n",
    "            score = next(nx.adamic_adar_index(G, [(u, v)]))[-1]\n",
    "            predictions.append(score)\n",
    "        except ZeroDivisionError:\n",
    "            print(\"ZeroDivisionError\")\n",
    "            predictions.append(0)\n",
    "\n",
    "        labels.append(0)\n",
    "    \n",
    "    # predictions = np.array(predictions)\n",
    "    # if len(predictions) > 0:\n",
    "    #     \"\"\" \n",
    "    #         正規化\n",
    "    #     \"\"\"\n",
    "    #     predictions = (predictions - predictions.min()) / (predictions.max() - predictions.min()) \n",
    "\n",
    "    return predictions, labels\n",
    "\n",
    "predictions, labels = predict_links_adamic_adar(G_base_line_test, pos_edge_index, neg_edge_index)\n",
    "# ROC-AUCの計算と描画\n",
    "roc_auc = roc_auc_score(labels, predictions)\n",
    "fpr, tpr, _ = roc_curve(labels, predictions)\n",
    "\n",
    "print(f\"ROC-AUC: {roc_auc:.2f}\")\n",
    "\n",
    "plt.figure()\n",
    "plt.plot(fpr, tpr, label=f'ROC curve (area = {roc_auc:.2f})')\n",
    "plt.plot([0, 1], [0, 1], 'k--')\n",
    "plt.xlabel('False Positive Rate')\n",
    "plt.ylabel('True Positive Rate')\n",
    "plt.title('Receiver Operating Characteristic (ROC)')\n",
    "plt.legend(loc='lower right')\n",
    "plt.show()"
   ]
  },
  {
   "cell_type": "code",
   "execution_count": 84,
   "metadata": {},
   "outputs": [
    {
     "name": "stdout",
     "output_type": "stream",
     "text": [
      "45.973853473257236\n"
     ]
    }
   ],
   "source": []
  },
  {
   "cell_type": "markdown",
   "metadata": {},
   "source": [
    "## Prefential Attachment"
   ]
  },
  {
   "cell_type": "code",
   "execution_count": 93,
   "metadata": {},
   "outputs": [
    {
     "data": {
      "image/png": "[encoded data removed]",
      "text/plain": [
       "<Figure size 576x432 with 1 Axes>"
      ]
     },
     "metadata": {
      "needs_background": "light"
     },
     "output_type": "display_data"
    }
   ],
   "source": [
    "def Prefentisal_Attachment_link_prediction(G, pos_edge_index, neg_edge_index):\n",
    "    predictions = []\n",
    "    labels = []\n",
    "    \n",
    "    # 正例の予測\n",
    "    for u, v in pos_edge_index:\n",
    "        try:\n",
    "            score = next(nx.preferential_attachment(G, [(u, v)]))[-1]\n",
    "            predictions.append(score)\n",
    "        except ZeroDivisionError:\n",
    "            print(\"ZeroDivisionError\")\n",
    "            predictions.append(0)\n",
    "        \n",
    "        labels.append(1)\n",
    "    \n",
    "    # 負例の予測\n",
    "    for u, v in neg_edge_index:\n",
    "        try:\n",
    "            score = next(nx.preferential_attachment(G, [(u, v)]))[-1]\n",
    "            predictions.append(score)\n",
    "        except ZeroDivisionError:\n",
    "            print(\"ZeroDivisionError\")\n",
    "            predictions.append(0)\n",
    "\n",
    "        labels.append(0)\n",
    "        \n",
    "    predictions = np.array(predictions)\n",
    "    if len(predictions) > 0:\n",
    "        \"\"\" \n",
    "            正規化\n",
    "        \"\"\"\n",
    "        predictions = (predictions - predictions.min()) / (predictions.max() - predictions.min()) \n",
    "        \n",
    "    return list(predictions), labels\n",
    "    \n",
    "\n",
    "predictions, labels = Prefentisal_Attachment_link_prediction(G_base_line_test, pos_edge_index, neg_edge_index)\n",
    "\n",
    "roc_auc = roc_auc_score(labels, predictions)\n",
    "fpr, tpr, _ = roc_curve(labels, predictions)\n",
    "\n",
    "plt.figure(figsize=(8, 6))\n",
    "plt.plot(fpr, tpr, label=f'ROC curve (AUC = {roc_auc:.2f})')\n",
    "plt.plot([0, 1], [0, 1], 'k--', label='Random')\n",
    "plt.xlabel('False Positive Rate')\n",
    "plt.ylabel('True Positive Rate')\n",
    "plt.title('Preferential Attachment Link Prediction ROC Curve')\n",
    "plt.legend()\n",
    "plt.grid(True)\n",
    "plt.show()"
   ]
  },
  {
   "cell_type": "code",
   "execution_count": null,
   "metadata": {},
   "outputs": [],
   "source": []
  }
 ],
 "metadata": {
  "kernelspec": {
   "display_name": "Python 3",
   "language": "python",
   "name": "python3"
  },
  "language_info": {
   "codemirror_mode": {
    "name": "ipython",
    "version": 3
   },
   "file_extension": ".py",
   "mimetype": "text/x-python",
   "name": "python",
   "nbconvert_exporter": "python",
   "pygments_lexer": "ipython3",
   "version": "3.8.10"
  }
 },
 "nbformat": 4,
 "nbformat_minor": 2
}
